{
 "cells": [
  {
   "cell_type": "markdown",
   "metadata": {
    "id": "zApLHSM2ZGPO"
   },
   "source": [
    "# Gradient Descent Optimization\n",
    "\n",
    "In ``demo_breast_cancer.ipynb``, we used the `sklearn` built-in `LogisticRegression` class to find the weights for the logistic regression problem.   The `fit` routine in that class has an *optimizer* to select the weights to best match the data.  To understand how that optimizer works, in this demo, we will build a very simple gradient descent optimizer from scratch.  You practice:\n",
    "* Computing the gradients of a loss function and implementing the gradient calculations in Python\n",
    "* Implement a simple gradient descent optimizer\n",
    "* Visualize the effect of the learning rate in gradient descent\n",
    "* Implement an adaptive learning rate algorithm\n",
    "* Add regularization to the loss minimization problem\n",
    "* Try out different black-box optimizers in Python"
   ]
  },
  {
   "cell_type": "markdown",
   "metadata": {
    "id": "CGZeQUE4ZGPQ"
   },
   "source": [
    "## Loading the Breast Cancer Data\n",
    "\n",
    "We first load the standard packages."
   ]
  },
  {
   "cell_type": "code",
   "execution_count": 1,
   "metadata": {
    "id": "tucthocjZGPR"
   },
   "outputs": [],
   "source": [
    "import numpy as np\n",
    "import matplotlib.pyplot as plt\n",
    "import pandas as pd\n",
    "%matplotlib inline\n",
    "from sklearn import preprocessing"
   ]
  },
  {
   "cell_type": "markdown",
   "metadata": {
    "id": "JseGFNPNZGPR"
   },
   "source": [
    "We next load the data from the breast cancer demo.  "
   ]
  },
  {
   "cell_type": "code",
   "execution_count": 2,
   "metadata": {
    "id": "hdvK-usLZGPR"
   },
   "outputs": [
    {
     "data": {
      "text/html": [
       "<div>\n",
       "<style scoped>\n",
       "    .dataframe tbody tr th:only-of-type {\n",
       "        vertical-align: middle;\n",
       "    }\n",
       "\n",
       "    .dataframe tbody tr th {\n",
       "        vertical-align: top;\n",
       "    }\n",
       "\n",
       "    .dataframe thead th {\n",
       "        text-align: right;\n",
       "    }\n",
       "</style>\n",
       "<table border=\"1\" class=\"dataframe\">\n",
       "  <thead>\n",
       "    <tr style=\"text-align: right;\">\n",
       "      <th></th>\n",
       "      <th>id</th>\n",
       "      <th>thick</th>\n",
       "      <th>size_unif</th>\n",
       "      <th>shape_unif</th>\n",
       "      <th>marg</th>\n",
       "      <th>cell_size</th>\n",
       "      <th>bare</th>\n",
       "      <th>chrom</th>\n",
       "      <th>normal</th>\n",
       "      <th>mit</th>\n",
       "      <th>class</th>\n",
       "    </tr>\n",
       "  </thead>\n",
       "  <tbody>\n",
       "    <tr>\n",
       "      <th>0</th>\n",
       "      <td>1000025</td>\n",
       "      <td>5</td>\n",
       "      <td>1</td>\n",
       "      <td>1</td>\n",
       "      <td>1</td>\n",
       "      <td>2</td>\n",
       "      <td>1.0</td>\n",
       "      <td>3</td>\n",
       "      <td>1</td>\n",
       "      <td>1</td>\n",
       "      <td>2</td>\n",
       "    </tr>\n",
       "    <tr>\n",
       "      <th>1</th>\n",
       "      <td>1002945</td>\n",
       "      <td>5</td>\n",
       "      <td>4</td>\n",
       "      <td>4</td>\n",
       "      <td>5</td>\n",
       "      <td>7</td>\n",
       "      <td>10.0</td>\n",
       "      <td>3</td>\n",
       "      <td>2</td>\n",
       "      <td>1</td>\n",
       "      <td>2</td>\n",
       "    </tr>\n",
       "    <tr>\n",
       "      <th>2</th>\n",
       "      <td>1015425</td>\n",
       "      <td>3</td>\n",
       "      <td>1</td>\n",
       "      <td>1</td>\n",
       "      <td>1</td>\n",
       "      <td>2</td>\n",
       "      <td>2.0</td>\n",
       "      <td>3</td>\n",
       "      <td>1</td>\n",
       "      <td>1</td>\n",
       "      <td>2</td>\n",
       "    </tr>\n",
       "    <tr>\n",
       "      <th>3</th>\n",
       "      <td>1016277</td>\n",
       "      <td>6</td>\n",
       "      <td>8</td>\n",
       "      <td>8</td>\n",
       "      <td>1</td>\n",
       "      <td>3</td>\n",
       "      <td>4.0</td>\n",
       "      <td>3</td>\n",
       "      <td>7</td>\n",
       "      <td>1</td>\n",
       "      <td>2</td>\n",
       "    </tr>\n",
       "    <tr>\n",
       "      <th>4</th>\n",
       "      <td>1017023</td>\n",
       "      <td>4</td>\n",
       "      <td>1</td>\n",
       "      <td>1</td>\n",
       "      <td>3</td>\n",
       "      <td>2</td>\n",
       "      <td>1.0</td>\n",
       "      <td>3</td>\n",
       "      <td>1</td>\n",
       "      <td>1</td>\n",
       "      <td>2</td>\n",
       "    </tr>\n",
       "  </tbody>\n",
       "</table>\n",
       "</div>"
      ],
      "text/plain": [
       "        id  thick  size_unif  shape_unif  marg  cell_size  bare  chrom  \\\n",
       "0  1000025      5          1           1     1          2   1.0      3   \n",
       "1  1002945      5          4           4     5          7  10.0      3   \n",
       "2  1015425      3          1           1     1          2   2.0      3   \n",
       "3  1016277      6          8           8     1          3   4.0      3   \n",
       "4  1017023      4          1           1     3          2   1.0      3   \n",
       "\n",
       "   normal  mit  class  \n",
       "0       1    1      2  \n",
       "1       2    1      2  \n",
       "2       1    1      2  \n",
       "3       7    1      2  \n",
       "4       1    1      2  "
      ]
     },
     "execution_count": 2,
     "metadata": {},
     "output_type": "execute_result"
    }
   ],
   "source": [
    "names = ['id','thick','size_unif','shape_unif','marg','cell_size','bare',\n",
    "         'chrom','normal','mit','class']\n",
    "df = pd.read_csv('https://archive.ics.uci.edu/ml/machine-learning-databases/' +\n",
    "                 'breast-cancer-wisconsin/breast-cancer-wisconsin.data',\n",
    "                names=names,na_values='?',header=None)\n",
    "df = df.dropna()\n",
    "df.head()"
   ]
  },
  {
   "cell_type": "markdown",
   "metadata": {
    "id": "_mRvBdd0ZGPS"
   },
   "source": [
    "As in the breast cancer demo, we create a data matrix `X` of various features of the breast cancer sample.  The response vector `y` is a binary indicating if each sample is benign or malignant.  "
   ]
  },
  {
   "cell_type": "code",
   "execution_count": 3,
   "metadata": {
    "id": "pnWddvTCZGPT"
   },
   "outputs": [],
   "source": [
    "# Get the predictors\n",
    "xnames = ['thick','size_unif','shape_unif','marg','cell_size','bare',\n",
    "         'chrom','normal','mit']\n",
    "Xraw = np.array(df[xnames])\n",
    "# As usual, let's also append an all ones vector onto X to serve as the intercept feature\n",
    "X = np.concatenate((np.ones((Xraw.shape[0],1)),Xraw),axis=1)\n",
    "\n",
    "# Get the response.  Convert to a zero-one indicator\n",
    "yraw = np.array(df['class'])\n",
    "BEN_VAL = 2   # value in the 'class' label for benign samples\n",
    "MAL_VAL = 4   # value in the 'class' label for malignant samples\n",
    "y = (yraw == MAL_VAL).astype(int) # now y has values of 0,1\n",
    "Iben = (y==0)\n",
    "Imal = (y==1)"
   ]
  },
  {
   "cell_type": "markdown",
   "metadata": {
    "id": "p6sl-AhrZGPT"
   },
   "source": [
    "We want to learn the classification rule to predict `y` from `X`.  We will do so with logistic regression."
   ]
  },
  {
   "cell_type": "markdown",
   "metadata": {
    "id": "k_BvqUD7ZGPT"
   },
   "source": [
    "## Computing the Gradient and Loss Function\n",
    "\n",
    "Recall that training a logistic function means finding a weight vector $\\beta$ for the classification rule:\n",
    "* Predict 1 for data vector $\\vec{x}$ if $\\vec{x}^T\\vec{\\beta} > 0$.\n",
    "* Predict 0 for data vector $\\vec{x}$ if $\\vec{x}^T\\vec{\\beta} \\leq 0$.\n",
    "\n",
    "Let $h_{\\vec{\\beta}}(\\vec{x}) = \\frac{1}{1 + e^{-\\vec{x}^T\\vec{\\beta}}}$. To find $\\beta$, we minimize the cross-entropy loss (aka the logistic loss):\n",
    "$$\n",
    "L(\\vec{\\beta}) = - \\sum_{i=1}^n y_i \\log(h_{\\vec{\\beta}}(\\vec{x}_i)) + (1-y_i) \\log(1-h_{\\vec{\\beta}}(\\vec{x}_i)).\n",
    "$$\n",
    "One issue with the expresion above for $L$ is that it can be *numerically unstable*. Essentially what can happen is you end up taking logs of numbers very close to zero and Python will return NaNs due to issues with using finite precision arithmetic. To deal with this problem, we write down an alternative expression for `L` which is *mathematically equivalent* but can be computed more accurately in finite precision arithmetic:\n",
    "$$\n",
    "L(\\vec{\\beta}) = \\sum_{i=1}^n (1-y_i)(\\vec{x}_i^T\\vec{\\beta}) - \\log(h_{\\vec{\\beta}}(\\vec{x}_i)).\n",
    "$$\n",
    "\n",
    "As we claimed in class, for this loss function we have\n",
    "$$\n",
    "\\nabla L(\\vec{\\beta}) = \\mathbf{X}^T(h_{\\vec{\\beta}}(\\mathbf{X}) - y)\n",
    "$$\n",
    "where $h_{\\vec{\\beta}}(\\mathbf{X})$ denotes the vector obtained by applying $h$ to every row in $\\mathbf{X}$.\n",
    "    \n",
    "    \n",
    "We will first write a function to compute `L` and its gradient `Lgrad`."
   ]
  },
  {
   "cell_type": "code",
   "execution_count": 4,
   "metadata": {
    "id": "lo-aKVsLZGPU"
   },
   "outputs": [],
   "source": [
    "def Leval(beta,X,y):\n",
    "    \"\"\"\n",
    "    Compute the loss and gradient given beta,X,y\n",
    "    \"\"\"\n",
    "    z = X@beta\n",
    "    h = 1/(1+np.exp(-z))\n",
    "    L = np.sum((1-y)*z - np.log(h))\n",
    "\n",
    "    # Gradient\n",
    "    Lgrad = (X.T)@(h-y)\n",
    "    return L, Lgrad"
   ]
  },
  {
   "cell_type": "markdown",
   "metadata": {
    "id": "QRBlTQPEZGPU"
   },
   "source": [
    "We can test our function on a random parameter vector $\\vec{\\beta}_0$."
   ]
  },
  {
   "cell_type": "code",
   "execution_count": 5,
   "metadata": {
    "id": "4d-xoSX7ZGPV"
   },
   "outputs": [],
   "source": [
    "# Some random point\n",
    "p = X.shape[1]\n",
    "beta0 = np.random.randn(p)\n",
    "\n",
    "# Call the function\n",
    "L, Lgrad = Leval(beta0,X,y)"
   ]
  },
  {
   "cell_type": "markdown",
   "metadata": {
    "id": "5bDViQjWZGPZ"
   },
   "source": [
    "It's not ideal that the loss function `L(beta,X,y)` depends on the parameters `X` and `y`.  Most numerical optimizers expect a function that only depends on `beta`, which contains the parameters begin optimized. We can acheive this by using a Python `lambda` function to fix the parameters `X` and `y`."
   ]
  },
  {
   "cell_type": "code",
   "execution_count": 6,
   "metadata": {
    "id": "ndyJcp3hZGPZ"
   },
   "outputs": [],
   "source": [
    "# Create a function with X,y fixed\n",
    "Leval_param = lambda beta: Leval(beta,X,y)\n",
    "\n",
    "# You can now pass a parameter like w0\n",
    "L0, Lgrad0 = Leval_param(beta0)"
   ]
  },
  {
   "cell_type": "markdown",
   "metadata": {
    "id": "2rYggsePZGPZ"
   },
   "source": [
    "### Testing the gradient\n",
    "\n",
    "Whenever you write a function for computing a gradient, it is very important to test if the gradient is correct.  This is the number one reason people's code does not work with numerical optimizers.  The simplest method is to take two points `beta0` and `beta1` that are close to one another and then verify that:\n",
    "$$\n",
    "L(\\vec{\\beta}_1) - L(\\vec{\\beta}_0) \\approx \\langle \\nabla L(\\vec{\\beta}_0), \\vec{\\beta}_1 - \\vec{\\beta}_0\\rangle.\n",
    "$$"
   ]
  },
  {
   "cell_type": "code",
   "execution_count": 7,
   "metadata": {
    "id": "lcYXo_CXZGPZ"
   },
   "outputs": [
    {
     "name": "stdout",
     "output_type": "stream",
     "text": [
      "Actual L1-L0    =  -4.7693e-04\n",
      "Predicted L1-L0 =  -4.7693e-04\n"
     ]
    }
   ],
   "source": [
    "# Take a random initial point\n",
    "p = X.shape[1]\n",
    "beta0 = np.random.randn(p)\n",
    "\n",
    "# Perturb the point\n",
    "step = 1e-6\n",
    "beta1 = beta0 + step*np.random.randn(p)\n",
    "\n",
    "# Measure the function and gradient at w0 and w1\n",
    "L0, Lgrad0 = Leval_param(beta0)\n",
    "L1, Lgrad1 = Leval_param(beta1)\n",
    "\n",
    "# Predict the amount the function should have changed based on the gradient\n",
    "dL_est = Lgrad0.T@(beta1-beta0)\n",
    "\n",
    "# Print the two values to see if they are close\n",
    "print(\"Actual L1-L0    = %12.4e\" % (L1-L0))\n",
    "print(\"Predicted L1-L0 = %12.4e\" % dL_est)"
   ]
  },
  {
   "cell_type": "markdown",
   "metadata": {
    "id": "fZucpF0DZGPZ"
   },
   "source": [
    "You can see that the two agree well. You can run the block multiple times to get different answers (depending on the random choice of $\\beta_0$, but you always see agreement."
   ]
  },
  {
   "cell_type": "markdown",
   "metadata": {
    "id": "rjOVKke8ZGPb"
   },
   "source": [
    "## A Simple Gradient Descent Optimizer\n",
    "\n",
    "Now, we build a simple gradient descent optimizer function with a fixed learning rate."
   ]
  },
  {
   "cell_type": "code",
   "execution_count": 8,
   "metadata": {
    "id": "Zzs3XqaBZGPb"
   },
   "outputs": [],
   "source": [
    "def grad_opt_simp(grad_func, beta0, lr=1e-3,nit=1000):\n",
    "    \"\"\"\n",
    "    Simple gradient descent optimization\n",
    "\n",
    "    grad_func:  A function that returns the objective function L, and its gradient Leval\n",
    "    beta0:  Initial estimate for parameters beta\n",
    "    lr:     learning rate\n",
    "    nit:    Number of iterations\n",
    "    \"\"\"\n",
    "\n",
    "    # Create history dictionary for tracking progress per iteration.\n",
    "    # This isn't necessary if you just want the final answer, but it\n",
    "    # is useful for debugging\n",
    "    hist = {'beta': [], 'L': []}\n",
    "\n",
    "    # initialize\n",
    "    beta = beta0\n",
    "\n",
    "    # Loop over iterations\n",
    "    for it in range(nit):\n",
    "\n",
    "        # Evaluate the function and gradient\n",
    "        L, Lgrad = grad_func(beta)\n",
    "\n",
    "        # Take a gradient step\n",
    "        beta = beta - lr*Lgrad\n",
    "\n",
    "         # Save history\n",
    "        hist['L'].append(L)\n",
    "        hist['beta'].append(beta)\n",
    "\n",
    "    # Convert to numpy arrays\n",
    "    for elem in ('L', 'beta'):\n",
    "        hist[elem] = np.array(hist[elem])\n",
    "    return beta, L, hist"
   ]
  },
  {
   "cell_type": "markdown",
   "metadata": {
    "id": "kM24nQLJZGPb"
   },
   "source": [
    "We now run the gradient descent starting from a initial condition of $\\vec{\\beta}_0 = \\vec{0}$."
   ]
  },
  {
   "cell_type": "code",
   "execution_count": 33,
   "metadata": {
    "id": "l_38PBurZGPb",
    "scrolled": true
   },
   "outputs": [
    {
     "data": {
      "image/png": "[encoded data removed]",
      "text/plain": [
       "<Figure size 640x480 with 1 Axes>"
      ]
     },
     "metadata": {},
     "output_type": "display_data"
    }
   ],
   "source": [
    "# Initial condition\n",
    "beta0 = np.zeros(p)\n",
    "\n",
    "# Parameters\n",
    "nit = 2000\n",
    "lr = 1e-5\n",
    "\n",
    "# Run the gradient descent\n",
    "beta, L, hist = grad_opt_simp(Leval_param, beta0, lr=lr, nit=nit)\n",
    "\n",
    "# Plot the training loss\n",
    "t = np.arange(nit)\n",
    "plt.plot(t, hist['L'])\n",
    "plt.grid()"
   ]
  },
  {
   "cell_type": "markdown",
   "metadata": {
    "id": "ndmFpjJgZGPb"
   },
   "source": [
    "We can measure the accuracy of the final estimate by creating a predict method."
   ]
  },
  {
   "cell_type": "code",
   "execution_count": 10,
   "metadata": {
    "id": "cwC1hMpcZGPb"
   },
   "outputs": [],
   "source": [
    "def predict(X,beta):\n",
    "    z = X@beta\n",
    "    yhat = (z > 0)\n",
    "    return (1*yhat)"
   ]
  },
  {
   "cell_type": "code",
   "execution_count": 11,
   "metadata": {
    "id": "3QEGqP1VZGPb",
    "scrolled": true
   },
   "outputs": [
    {
     "name": "stdout",
     "output_type": "stream",
     "text": [
      "Train accuracy = 0.941435\n"
     ]
    }
   ],
   "source": [
    "yhat = predict(X,beta)\n",
    "acc = np.mean(yhat == y)\n",
    "print(\"Train accuracy = %f\" % acc)"
   ]
  },
  {
   "cell_type": "markdown",
   "metadata": {
    "id": "xDqQgujwZGPb"
   },
   "source": [
    "This is not quite as good as the accuracy for the `sklearn` method from the demo, which was about 98.5%.  The reason is that the learning rate was somewhat slow and we didn't yet fully converge.\n",
    "\n",
    "To see the effect of the learning rate, the code below tries different learning rates."
   ]
  },
  {
   "cell_type": "code",
   "execution_count": 12,
   "metadata": {
    "id": "ROLK-7vsZGPb"
   },
   "outputs": [
    {
     "name": "stdout",
     "output_type": "stream",
     "text": [
      "lr=    1.00e-05  Train accuracy = 0.941435\n",
      "lr=    1.00e-04  Train accuracy = 0.969253\n",
      "lr=    1.00e-03  Train accuracy = 0.970717\n"
     ]
    },
    {
     "data": {
      "text/plain": [
       "<matplotlib.legend.Legend at 0x1c23a8ec290>"
      ]
     },
     "execution_count": 12,
     "metadata": {},
     "output_type": "execute_result"
    },
    {
     "data": {
      "image/png": "[encoded data removed]",
      "text/plain": [
       "<Figure size 640x480 with 1 Axes>"
      ]
     },
     "metadata": {},
     "output_type": "display_data"
    }
   ],
   "source": [
    "# Learning rate values to test\n",
    "lr_test = [1e-5,1e-4,1e-3]\n",
    "ntest = len(lr_test)\n",
    "\n",
    "# Strings for the legend\n",
    "leg_str = []\n",
    "\n",
    "beta0 = np.zeros(p)\n",
    "for i in range(ntest):\n",
    "    # Run the optimizer\n",
    "    beta, L, hist = grad_opt_simp(Leval_param, beta0, lr=lr_test[i], nit=nit)\n",
    "\n",
    "    # Plot the results\n",
    "    plt.semilogy(t, hist['L'])\n",
    "    leg_str.append(\"lr=%12.2e\" % lr_test[i])\n",
    "\n",
    "    # Measure the train accuracy\n",
    "    yhat = predict(X,beta)\n",
    "    acc = np.mean(yhat == y)\n",
    "    print(\"lr=%12.2e  Train accuracy = %f\" % (lr_test[i], acc))\n",
    "\n",
    "plt.grid()\n",
    "plt.legend(leg_str, loc='upper right')"
   ]
  },
  {
   "cell_type": "markdown",
   "metadata": {
    "id": "CWfssuxlZGPb"
   },
   "source": [
    "We see that increasing the learning rate, speeds the convergence time, but the optimization is beginning to go unstable. It recovers from this instability for learning rate `1e-3`, but try running with rate `1e-2` to see more of an issue."
   ]
  },
  {
   "cell_type": "markdown",
   "metadata": {
    "id": "RsbTrJvrZGPb"
   },
   "source": [
    "## Adaptive Step Size\n",
    "\n",
    "The above example shows that gradient descent is sensitive to the step size.  We now consider a variant of gradient descent with an adaptive step-size using the Armijo rule discussed in class."
   ]
  },
  {
   "cell_type": "code",
   "execution_count": 13,
   "metadata": {
    "id": "QUw5uoqLZGPc"
   },
   "outputs": [],
   "source": [
    "def grad_opt_adapt(grad_func, beta0, nit=2000, lr_init=1e-3):\n",
    "    \"\"\"\n",
    "    Gradient descent optimization with adaptive step size\n",
    "\n",
    "    feval:  A function that returns f, fgrad, the objective\n",
    "            function and its gradient\n",
    "    beta0:  Initial estimate\n",
    "    nit:    Number of iterations\n",
    "    lr:     Initial learning rate\n",
    "    \"\"\"\n",
    "\n",
    "    # Set initial point\n",
    "    beta = beta0\n",
    "    lr = lr_init\n",
    "\n",
    "    # Create history dictionary for tracking progress per iteration.\n",
    "    # This isn't necessary if you just want the final answer, but it\n",
    "    # is useful for debugging\n",
    "    hist = {'lr': [], 'beta': [], 'L': []}\n",
    "\n",
    "    L,Lgrad = grad_func(beta0)\n",
    "    for it in range(nit):\n",
    "\n",
    "        # Take a gradient step\n",
    "        beta1 = beta - lr*Lgrad\n",
    "\n",
    "        # Evaluate the test point by computing the objective function, L1,\n",
    "        # at the test point and the predicted decrease, df_est\n",
    "        L1, Lgrad1 = grad_func(beta1)\n",
    "        df_est = Lgrad.T@(beta1-beta)\n",
    "\n",
    "        # Check if test point passes the Armijo condition\n",
    "        alpha = 0.5\n",
    "        if (L1-L < alpha*df_est) and (L1 < L):\n",
    "            # If descent is sufficient, accept the point and increase the learning rate\n",
    "            lr = lr*2\n",
    "            L = L1\n",
    "            Lgrad = Lgrad1\n",
    "            beta = beta1\n",
    "        else:\n",
    "            # Otherwise, decrease the learning rate\n",
    "            lr = lr/2\n",
    "\n",
    "        # Save history\n",
    "        hist['L'].append(L)\n",
    "        hist['lr'].append(lr)\n",
    "        hist['beta'].append(beta)\n",
    "\n",
    "    # Convert to numpy arrays\n",
    "    for elem in ('L', 'lr', 'beta'):\n",
    "        hist[elem] = np.array(hist[elem])\n",
    "    return beta, L, hist\n"
   ]
  },
  {
   "cell_type": "markdown",
   "metadata": {
    "id": "bP74mWq5ZGPc"
   },
   "source": [
    "We can now run the new optimizer."
   ]
  },
  {
   "cell_type": "code",
   "execution_count": 26,
   "metadata": {
    "id": "q116z7zmZGPc"
   },
   "outputs": [
    {
     "data": {
      "image/png": "[encoded data removed]",
      "text/plain": [
       "<Figure size 640x480 with 2 Axes>"
      ]
     },
     "metadata": {},
     "output_type": "display_data"
    }
   ],
   "source": [
    "beta0 = np.zeros(p)\n",
    "nit = 2000\n",
    "beta, L, hist = grad_opt_adapt(Leval_param, beta0, nit=nit)\n",
    "\n",
    "t = np.arange(nit)\n",
    "plt.subplot(2,1,1)\n",
    "plt.semilogy(t, hist['L'])\n",
    "plt.grid()\n",
    "plt.ylabel('Loss')\n",
    "\n",
    "plt.subplot(2,1,2)\n",
    "plt.loglog(t, hist['lr'])\n",
    "plt.grid()\n",
    "plt.ylabel('Learning rate')\n",
    "plt.xlabel('Iteration')\n",
    "plt.tight_layout()"
   ]
  },
  {
   "cell_type": "code",
   "execution_count": 27,
   "metadata": {},
   "outputs": [
    {
     "data": {
      "text/plain": [
       "array([473.41952432, 473.41952432, 473.41952432, ...,  52.72533907,\n",
       "        52.72533907,  52.72056127])"
      ]
     },
     "execution_count": 27,
     "metadata": {},
     "output_type": "execute_result"
    }
   ],
   "source": [
    "hist['L']"
   ]
  },
  {
   "cell_type": "markdown",
   "metadata": {
    "id": "KcLnS7E_ZGPc"
   },
   "source": [
    "Finally we measure the accuracy and see that we performed as well as the best fixed step size used above."
   ]
  },
  {
   "cell_type": "code",
   "execution_count": 15,
   "metadata": {
    "id": "Mdxl8r70ZGPc"
   },
   "outputs": [
    {
     "name": "stdout",
     "output_type": "stream",
     "text": [
      "Train accuracy = 0.970717\n"
     ]
    }
   ],
   "source": [
    "yhat = predict(X,beta)\n",
    "acc = np.mean(yhat == y)\n",
    "print(\"Train accuracy = %f\" % acc)"
   ]
  },
  {
   "cell_type": "markdown",
   "metadata": {
    "id": "Y7SoYMcwZGPc"
   },
   "source": [
    "## L2 Regularization\n",
    "\n",
    "Just as for linear regression, given enough features, logsitic regression can be prone to overfitting. In such cases, it often make sense to add regularization when training. In particular, instead of minimizing:\n",
    "$$\n",
    "L(\\mathbf{\\vec{\\beta}}) =\\sum_{i=1}^n (1-y_i)(\\vec{x}_i^T\\vec{\\beta}) - \\log(h_{\\vec{\\beta}}(\\vec{x}_i)).\n",
    "$$\n",
    "we might use $\\ell_2$ regularization and choose $\\beta$ to minimize\n",
    "$$\n",
    "L_R(\\vec{\\beta}) = L(\\vec{\\beta}) + \\lambda \\|\\vec{\\beta}\\|_2^2\n",
    "$$\n",
    "for some regularization parameter $\\lambda$."
   ]
  },
  {
   "cell_type": "markdown",
   "metadata": {
    "id": "eQSpIig5ZGPd"
   },
   "source": [
    "Write a function which evaluates the regularized loss `Lr` for parameters `beta` and also computes the gradient $\\nabla L_R(\\vec{\\beta})$ at `beta`. You will have to derive an expression for this gradient to correctly implement your function."
   ]
  },
  {
   "cell_type": "code",
   "execution_count": 39,
   "metadata": {
    "id": "mGPhxz42ZGPd"
   },
   "outputs": [],
   "source": [
    "def Leval_reg(beta,X,y,lamb):\n",
    "    \"\"\"\n",
    "    Compute the regularized loss and gradient given beta, X, y, and regularization parameter lamb\n",
    "    \"\"\"\n",
    "    # TODO\n",
    "    # First compute Lbeta from the example given above\n",
    "    z = X@beta\n",
    "    h = 1/(1+np.exp(-z))\n",
    "    L = np.sum((1-y)*z - np.log(h))\n",
    "    \n",
    "    #Then compute lambda and l2 square norm of beta\n",
    "    l2_beta = lamb * np.sum(beta ** 2)\n",
    "    \n",
    "    #add these two terms we get lr\n",
    "    Lr = L + l2_beta\n",
    "    \n",
    "    #First compute gradient of Lbeta from the example given above\n",
    "    Lgrad = (X.T)@(h-y)\n",
    "    \n",
    "    #The derivative of lambda l2 square norm is 2lambda beta\n",
    "    \n",
    "    l2_grad = 2*lamb*beta\n",
    "    \n",
    "    #Add these two terms we get Lrgrad\n",
    "    Lrgrad = Lgrad + l2_grad\n",
    "\n",
    "    return Lr, Lrgrad"
   ]
  },
  {
   "cell_type": "markdown",
   "metadata": {
    "id": "cZKhYWGiZGPd"
   },
   "source": [
    "As we did above for the unregularized loss, write code to test your gradient computation. Run your test for `lamb` equals `0`,`1`,`10`,`100` and print output which confirms the accuracy of your gradient in all cases."
   ]
  },
  {
   "cell_type": "code",
   "execution_count": 45,
   "metadata": {
    "id": "CAT5xPjfZGPd"
   },
   "outputs": [
    {
     "name": "stdout",
     "output_type": "stream",
     "text": [
      "Actual L1-L0    =  -2.8989e-04 For  0\n",
      "Predicted L1-L0 =  -2.8989e-04 For  0\n",
      "Actual L1-L0    =  -8.7296e-04 For  1\n",
      "Predicted L1-L0 =  -8.7297e-04 For  1\n",
      "Actual L1-L0    =  -1.7235e-04 For  10\n",
      "Predicted L1-L0 =  -1.7235e-04 For  10\n",
      "Actual L1-L0    =  -9.0247e-04 For  100\n",
      "Predicted L1-L0 =  -9.0247e-04 For  100\n"
     ]
    }
   ],
   "source": [
    "# TODO\n",
    "lamb_list = [0,1,10,100]\n",
    "for lambs in lamb_list:\n",
    "    Leval_param_reg = lambda beta: Leval_reg(beta,X,y,lambs)\n",
    "\n",
    "\n",
    "    # Perturb the point\n",
    "    step = 1e-6\n",
    "    beta1 = beta0 + step*np.random.randn(p)\n",
    "\n",
    "    # Measure the function and gradient at w0 and w1\n",
    "    Lr0, Lrgrad0 = Leval_param_reg(beta0)\n",
    "    Lr1, Lrgrad1 = Leval_param_reg(beta1)\n",
    "\n",
    "    # Predict the amount the function should have changed based on the gradient\n",
    "    drL_est = Lrgrad0.T@(beta1-beta0)\n",
    "\n",
    "    # Print the two values to see if they are close\n",
    "    print(\"Actual L1-L0    = %12.4e\" % (Lr1-Lr0), \"For \", str(lambs))\n",
    "    print(\"Predicted L1-L0 = %12.4e\" % drL_est, \"For \", str(lambs))\n"
   ]
  },
  {
   "cell_type": "markdown",
   "metadata": {
    "id": "M_qRks55ZGPd"
   },
   "source": [
    "For `lamb` equals `0`,`1`,`10`,`100` use `grad_opt_adapt` run for `2000` iterations with $\\vec{\\beta}_0 = \\vec{0}$ to find a parameter vector $\\beta$ which approximately minimizes $L_R(\\beta)$. For each regularization level, print the train accuracy achieved when using the optimal parameters. Note that we expect the **train accuracy to decrease** as the regularization parameter increases. Regularization often helps **test accuracy to increase**, but for this lab we're keeping things simple without a test set."
   ]
  },
  {
   "cell_type": "code",
   "execution_count": 46,
   "metadata": {
    "id": "LP760Z30ZGPd"
   },
   "outputs": [
    {
     "name": "stdout",
     "output_type": "stream",
     "text": [
      "Train accuracy for lambda =  0 = 0.969253\n",
      "Train accuracy for lambda =  1 = 0.969253\n",
      "Train accuracy for lambda =  10 = 0.959004\n",
      "Train accuracy for lambda =  100 = 0.920937\n"
     ]
    }
   ],
   "source": [
    "# TODO\n",
    "for lambs in lamb_list:\n",
    "    Leval_param_reg = lambda beta: Leval_reg(beta,X,y,lambs)\n",
    "    \n",
    "    beta, L, hist = grad_opt_adapt(Leval_param_reg, beta0, nit=nit)\n",
    "    \n",
    "    yhat = predict(X,beta)\n",
    "    acc = np.mean(yhat == y)\n",
    "    print(\"Train accuracy for lambda = \", str(lambs),\"= %f\" % acc)\n",
    "\n",
    "# These are the outputs I got:\n",
    "# lamb = 0, Train accuracy = 0.970717\n",
    "# lamb = 1, Train accuracy = 0.969253\n",
    "# lamb = 10, Train accuracy = 0.959004\n",
    "# lamb = 100, Train accuracy = 0.920937"
   ]
  },
  {
   "cell_type": "markdown",
   "metadata": {
    "id": "i3ogP3nc14nr"
   },
   "source": []
  },
  {
   "cell_type": "markdown",
   "metadata": {
    "id": "-deCePiL47r1"
   },
   "source": [
    "## Stochastic Gradient Descent\n",
    "\n",
    "As we saw in class, for very large data sets, implementing full gradient descent can be impractical, so stochastic gradient descent is used instead. In this next section, your goal is to implement a stochastic gradient oracle and corresponding stochastic gradient descent iteration to minimize the logistic loss function. Begin by writing a function that computes the gradient of $$\n",
    "L_j(\\vec{\\beta}) = (1-y_j)(\\vec{x}_j^T\\vec{\\beta}) - \\log(h_{\\vec{\\beta}}(\\vec{x}_j)).\n",
    "$$\n",
    "For any $j$. Your function can should take the vector $\\vec{x}_j$ and label $y_j\\in \\{0,1\\}$ as input. Note that\n",
    "$$\n",
    "L(\\vec{\\beta}) = \\sum_{i=1}^n L_j(\\vec{\\beta}),\n",
    "$$\n",
    "so as shown in class, $n\\cdot \\mathbb{E}[\\nabla L_j(\\vec{\\beta})] = \\nabla L(\\vec{\\beta})$."
   ]
  },
  {
   "cell_type": "code",
   "execution_count": 16,
   "metadata": {
    "id": "8stcfSHe8eM9"
   },
   "outputs": [],
   "source": [
    "def Leval_stoc(beta,x,y):\n",
    "    \"\"\"\n",
    "    Compute the stochastic gradient given beta, vector x, and single label y\n",
    "    Note that, unlike before, your function should not compute the loss function value,\n",
    "    as this would be more expensive then computing the stochastic gradient\n",
    "    \"\"\"\n",
    "    # TODO: implement this function\n",
    "    # Lgrad_stoc =\n",
    "    z = x@beta\n",
    "    h = 1/(1+np.exp(-z))\n",
    "    \n",
    "    error = h - y\n",
    "    Lgrad_stoc = error*x\n",
    "    return Lgrad_stoc"
   ]
  },
  {
   "cell_type": "markdown",
   "metadata": {
    "id": "OH_Xm9vWZCzD"
   },
   "source": [
    "Just as we did for our standard gradient oracle, it is a good idea to check that your stochastic gradient is being computed directly. One good way of doing so is verifying that $n\\cdot \\mathbb{E}[\\nabla L_j(\\vec{\\beta})] = \\nabla L(\\vec{\\beta})$. To do so, we can estimate $\\mathbb{E}[\\nabla L_j(\\vec{\\beta})]$ using a large sample of data points and compare to $\\nabla L(\\vec{\\beta})$. Write code to do so below. I estimated $\\mathbb{E}[\\nabla L_j(\\vec{\\beta})]$ using 10000 random samples."
   ]
  },
  {
   "cell_type": "code",
   "execution_count": 36,
   "metadata": {
    "id": "gM0pNCAGcTOY"
   },
   "outputs": [
    {
     "name": "stdout",
     "output_type": "stream",
     "text": [
      "Actual L  [ 102.5 -201.  -496.  -470.  -368.5 -168.5 -612.5 -251.5 -420.   -74.5]\n",
      "Predicted L  [ 102.36121  -199.0262   -495.574555 -471.66614  -369.50983  -166.757865\n",
      " -611.57186  -248.335385 -422.794075  -75.454425]\n"
     ]
    }
   ],
   "source": [
    "# TODO: Write code to test your stochastic gradient oracle before mvoing on!\n",
    "#actual stoc grad\n",
    "n = X.shape[0]\n",
    "indices = np.random.choice(n, size = 100000, replace=True)\n",
    "est_stoc_grad = n*np.sum([Leval_stoc(beta0, X[i], y[i])/100000 for i in indices], axis=0)\n",
    "\n",
    "_ , stoc_grads = Leval(beta0, X, y)\n",
    "\n",
    "# Print the two values to see if they are close\n",
    "print(\"Actual L \", stoc_grads)\n",
    "print(\"Predicted L \", est_stoc_grad)"
   ]
  },
  {
   "cell_type": "markdown",
   "metadata": {
    "id": "84JhB-b8e8Xs"
   },
   "source": [
    "With your stochastic gradient oracle implemented, write a basic implementation of stochastic gradient descent with a fixed learning rate. As in our implementation of `grad_opt_simp`, store the history of errors obtained by the algorithm. This will require evaluating our loss function at every iteration, which we would not actually do in practice, since it is computationally expensive. But we will do it here to visualize how the method does."
   ]
  },
  {
   "cell_type": "code",
   "execution_count": 32,
   "metadata": {
    "id": "wkAcs3A25uQr"
   },
   "outputs": [],
   "source": [
    "def stoc_grad_opt(X,y, stoc_grad_func, beta0, lr=1e-3,nit=1000):\n",
    "    \"\"\"\n",
    "    Simple stochastic gradient descent optimization\n",
    "\n",
    "    stoc_grad_func:  A function that returns the stochastic gradient of the lost for a given input rows of X and entry of y\n",
    "    beta0:  Initial estimate for parameters beta\n",
    "    lr:     learning rate\n",
    "    nit:    Number of iterations\n",
    "    \"\"\"\n",
    "\n",
    "    # Create history dictionary for tracking progress per iteration.\n",
    "    hist = {'beta': [], 'L': []}\n",
    "\n",
    "    # TODO: fill in this code\n",
    "    beta = beta0.copy()\n",
    "    \n",
    "    n = X.shape[0]\n",
    "    \n",
    "    for i in range(nit):\n",
    "        # Randomly select an index for stochastic gradient computation\n",
    "        idx = np.random.randint(0, n)\n",
    "        x_i = X[idx]\n",
    "        y_i = y[idx]\n",
    "        \n",
    "        # Compute the stochastic gradient\n",
    "        stoc_grad = stoc_grad_func(beta, x_i, y_i)\n",
    "        \n",
    "        # Update beta\n",
    "        beta -= lr * stoc_grad\n",
    "        \n",
    "        # Compute the current loss (expensive operation, for demonstration only)\n",
    "        current_loss,_ = Leval(beta, X, y)\n",
    "        \n",
    "        # Store history\n",
    "        hist['beta'].append(beta)\n",
    "        hist['L'].append(current_loss)\n",
    "\n",
    "    # Convert to numpy arrays\n",
    "    for elem in ('L', 'beta'):\n",
    "        hist[elem] = np.array(hist[elem])\n",
    "    return beta, L, hist\n",
    "\n",
    "    # return beta, L, hist"
   ]
  },
  {
   "cell_type": "markdown",
   "metadata": {
    "id": "ApUhjvdEgIPz"
   },
   "source": [
    "Run your stochastic gradient descent method starting from initial condition $\\boldsymbol{\\beta}_0 = \\vec{0}$ and plot the output. Feel free to experiment with different learning rates. Notice that even for small learning rates, the loss does not necessarily decrease monotonically due to randomness inherent in the method."
   ]
  },
  {
   "cell_type": "code",
   "execution_count": 35,
   "metadata": {
    "id": "qkNRvI_x9VpG"
   },
   "outputs": [
    {
     "data": {
      "image/png": "[encoded data removed]",
      "text/plain": [
       "<Figure size 640x480 with 1 Axes>"
      ]
     },
     "metadata": {},
     "output_type": "display_data"
    }
   ],
   "source": [
    "# Parameters\n",
    "nit = 10000\n",
    "lr = 1e-3\n",
    "\n",
    "# Run the gradient descent\n",
    "beta, L, hist = stoc_grad_opt(X, y, Leval_stoc, beta0, lr=lr, nit=nit)\n",
    "\n",
    "# Plot the training loss\n",
    "t = np.arange(nit)\n",
    "plt.plot(t, hist['L'])\n",
    "plt.grid()"
   ]
  },
  {
   "cell_type": "markdown",
   "metadata": {
    "id": "lhfDOaFSgw4i"
   },
   "source": [
    "### Stochastic Gradient Descent Comparison\n",
    "\n",
    "Rewrite your stochastic gradient descent method above to take in a number of epochs of training instead of number of iterations, and change the code so that it only computes the loss function value at the end of each epoch."
   ]
  },
  {
   "cell_type": "code",
   "execution_count": 29,
   "metadata": {
    "id": "LEccidChgwOV"
   },
   "outputs": [],
   "source": [
    "def stoc_grad_opt_epoch(X,y, stoc_grad_func, beta0, lr=1e-3,nepoch=500):\n",
    "    \"\"\"\n",
    "    Simple stochastic gradient descent optimization\n",
    "\n",
    "    stoc_grad_func:  A function that returns the stochastic gradient of the lost for a given input rows of X and entry of y\n",
    "    beta0:  Initial estimate for parameters beta\n",
    "    lr:     learning rate\n",
    "    nepoch:    Number of epochs of training\n",
    "    \"\"\"\n",
    "\n",
    "    # Create history dictionary for tracking progress per iteration.\n",
    "    hist = {'beta': [], 'L': []}\n",
    "\n",
    "    # TODO: fill in this code\n",
    "    beta = beta0.copy()\n",
    "    n = X.shape[0]\n",
    "    \n",
    "    for epoch in range(nepoch):\n",
    "        # Shuffle the data indices at the beginning of each epoch\n",
    "        indices = np.arange(n)\n",
    "        np.random.shuffle(indices)\n",
    "        \n",
    "        for i in indices:\n",
    "            x_i = X[i]\n",
    "            y_i = y[i]\n",
    "            stoc_grad = stoc_grad_func(beta, x_i, y_i)\n",
    "            beta -= lr * stoc_grad\n",
    "        \n",
    "        # Compute the loss at the end of the epoch and store the history\n",
    "        current_loss,_ = Leval(beta,X,y)\n",
    "        hist['beta'].append(beta)\n",
    "        hist['L'].append(current_loss)\n",
    "        \n",
    "    # Convert to numpy arrays\n",
    "    for elem in ('L', 'beta'):\n",
    "        hist[elem] = np.array(hist[elem])\n",
    "    return beta, L, hist\n",
    "\n",
    "    # return beta, L, hist"
   ]
  },
  {
   "cell_type": "markdown",
   "metadata": {
    "id": "qn6mkv-KkFTC"
   },
   "source": [
    "Run both your stochastic gradient descent method and the standard gradient descent method with adaptive step size (`grad_opt_adapt`) for 500 epochs.\n",
    "\n",
    "Plot the loss function errors obtained at the end of each epoch. You should see that, for an appropriate choice of step size, stochastic gradient descent requires fewer epochs to reach near minimal loss in comparison to standard gradient descent. For example, the plot I obtained looked as follows:\n",
    "\n",
    "<img src=\"https://www.chrismusco.com/machinelearning2023_grad/sgd_loss.png\" width=\"500\"/>\n"
   ]
  },
  {
   "cell_type": "code",
   "execution_count": 38,
   "metadata": {
    "id": "GIEJ1j5LiXBG"
   },
   "outputs": [
    {
     "data": {
      "image/png": "[encoded data removed]",
      "text/plain": [
       "<Figure size 1000x600 with 1 Axes>"
      ]
     },
     "metadata": {},
     "output_type": "display_data"
    }
   ],
   "source": [
    "# TODO: generate a plot like the one above\n",
    "beta_sgd, L_sgd, hist_sgd = stoc_grad_opt_epoch(X, y, stoc_grad_func=Leval_stoc, beta0=beta0, lr=1e-3, nepoch=500)\n",
    "\n",
    "# Run adaptive gradient descent for 500 epochs\n",
    "beta_a, L_a, hist_a = grad_opt_adapt(Leval_param, beta0, nit=500)\n",
    "\n",
    "\n",
    "\n",
    "# Plotting\n",
    "plt.figure(figsize=(10, 6))\n",
    "plt.plot(hist_sgd['L'],color='orange',label='SGD Loss')\n",
    "plt.plot(hist_a['L'], color='blue', label='Adaptive GD Loss')\n",
    "plt.xlabel('Epoch')\n",
    "plt.ylabel('Loss')\n",
    "plt.title('Loss Function Error per Epoch')\n",
    "plt.legend()\n",
    "plt.show()"
   ]
  },
  {
   "cell_type": "code",
   "execution_count": null,
   "metadata": {},
   "outputs": [],
   "source": []
  }
 ],
 "metadata": {
  "anaconda-cloud": {},
  "colab": {
   "provenance": []
  },
  "kernelspec": {
   "display_name": "Python 3 (ipykernel)",
   "language": "python",
   "name": "python3"
  },
  "language_info": {
   "codemirror_mode": {
    "name": "ipython",
    "version": 3
   },
   "file_extension": ".py",
   "mimetype": "text/x-python",
   "name": "python",
   "nbconvert_exporter": "python",
   "pygments_lexer": "ipython3",
   "version": "3.11.5"
  }
 },
 "nbformat": 4,
 "nbformat_minor": 1
}
